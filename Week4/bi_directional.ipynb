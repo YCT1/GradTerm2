{
 "cells": [
  {
   "cell_type": "code",
   "execution_count": 1,
   "metadata": {},
   "outputs": [],
   "source": [
    "ids = [\"H1\",\"H2\",\"H3\"]\n",
    "\n",
    "hospital = [[\"H1\"],[\"H1\"],[\"H1\"],[\"H1\"],[\"H1\"]]"
   ]
  },
  {
   "cell_type": "code",
   "execution_count": 17,
   "metadata": {},
   "outputs": [
    {
     "data": {
      "text/plain": [
       "2"
      ]
     },
     "execution_count": 17,
     "metadata": {},
     "output_type": "execute_result"
    }
   ],
   "source": [
    "def produceOtherHospitalList(ids, hospital):\n",
    "    result = []\n",
    "    for element in hospital:\n",
    "        id = element[0]\n",
    "        other_ids = list()\n",
    "        for given_id in ids:\n",
    "            if id != given_id:\n",
    "                other_ids.append(given_id)\n",
    "        result.append(other_ids)\n",
    "\n",
    "    size = len(result[0])\n",
    "    final_result = list()\n",
    "    for i in range(size):\n",
    "        col = list()\n",
    "        for element in result:\n",
    "            col.append([element[i]])\n",
    "        pass\n",
    "        final_result.append(col)\n",
    "    return final_result\n",
    "\n",
    "\n",
    "r = produceOtherHospitalList(ids, hospital)\n",
    "len(r)"
   ]
  },
  {
   "cell_type": "code",
   "execution_count": 19,
   "metadata": {},
   "outputs": [
    {
     "data": {
      "text/plain": [
       "0"
      ]
     },
     "execution_count": 19,
     "metadata": {},
     "output_type": "execute_result"
    }
   ],
   "source": [
    "ids = [\"H1\",\"H2\",\"H3\"]\n",
    "hospital = [[\"H1\"],[\"H1\"],[\"H1\"],[\"H1\"],[\"H1\"]]\n",
    "\n",
    "ids.index(hospital[0][0])\n"
   ]
  }
 ],
 "metadata": {
  "interpreter": {
   "hash": "4a58629c167b22d17cee97ce8d962734f04656b21e4adc5e2e5541264ba60242"
  },
  "kernelspec": {
   "display_name": "Python 3.8.10 64-bit",
   "language": "python",
   "name": "python3"
  },
  "language_info": {
   "codemirror_mode": {
    "name": "ipython",
    "version": 3
   },
   "file_extension": ".py",
   "mimetype": "text/x-python",
   "name": "python",
   "nbconvert_exporter": "python",
   "pygments_lexer": "ipython3",
   "version": "3.8.10"
  },
  "orig_nbformat": 4
 },
 "nbformat": 4,
 "nbformat_minor": 2
}
